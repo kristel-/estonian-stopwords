{
 "cells": [
  {
   "cell_type": "code",
   "execution_count": 1,
   "metadata": {},
   "outputs": [],
   "source": [
    "# py 3.5 & estnltk 1.4\n",
    "from estnltk import synthesize\n",
    "import pandas"
   ]
  },
  {
   "cell_type": "code",
   "execution_count": 2,
   "metadata": {},
   "outputs": [],
   "source": [
    "# define cases to be generated\n",
    "cases = [\n",
    "    ('n', 'nimetav'),\n",
    "    ('g', 'omastav'),\n",
    "    ('p', 'osastav'),\n",
    "    ('ill', 'sisseütlev'),\n",
    "    ('in', 'seesütlev'),\n",
    "    ('el', 'seestütlev'),\n",
    "    ('all', 'alaleütlev'),\n",
    "    ('ad', 'alalütlev'),\n",
    "    ('abl', 'alaltütlev'),\n",
    "    ('tr', 'saav'),\n",
    "    ('ter', 'rajav'),\n",
    "    ('es', 'olev'),\n",
    "    ('ab', 'ilmaütlev'),\n",
    "    ('kom', 'kaasaütlev')]"
   ]
  },
  {
   "cell_type": "code",
   "execution_count": 3,
   "metadata": {},
   "outputs": [],
   "source": [
    "# define verbforms to be generated\n",
    "verb_forms = ['b', 'd', 'da', 'des', 'ge', 'gem', 'gu', 'gu', 'ks', 'ks', 'ks', 'ks', 'ks', 'ks', 'ksid', 'ksid', 'ksime', 'ksin', 'ksite', 'ma', 'maks', 'mas', 'mast', 'mata', 'me', 'n', 'neg', 'neg ge', 'neg gem', 'neg gu', 'neg gu', 'neg gu', 'neg ks', 'neg ks', 'neg ks', 'neg ks', 'neg ks', 'neg ks', 'neg me', 'neg nud', 'neg nud', 'neg nud', 'neg nud', 'neg nud', 'neg nud', 'neg nuks', 'neg nuks', 'neg nuks', 'neg nuks', 'neg nuks', 'neg nuks', 'neg o', 'neg o', 'neg o', 'neg o', 'neg o', 'neg o', 'neg o', 'neg vat', 'neg vat', 'neg tud', 'neg vat', 'neg vat', 'neg vat', 'neg vat', 'nud', 'nuks', 'nuks', 'nuks', 'nuks', 'nuks', 'nuks', 'nuksid', 'nuksid', 'nuksime', 'nuksin', 'nuksite', 'nuvat', 'nuvat', 'nuvat', 'nuvat', 'nuvat', 'nuvat', 'o', 's', 'sid', 'sid', 'sime', 'sin', 'site', 'ta', 'tagu', 'taks', 'takse', 'tama', 'tav', 'tavat', 'te', 'ti', 'tud', 'tuks', 'tuvat', 'v', 'vad', 'vat', 'vat', 'vat', 'vat', 'vat', 'vat']"
   ]
  },
  {
   "cell_type": "code",
   "execution_count": 4,
   "metadata": {},
   "outputs": [],
   "source": [
    "# function that generates noun forms and returns the table\n",
    "def synthesize_all(word):\n",
    "    case_rows = []\n",
    "    sing_rows = []\n",
    "    plur_rows = []\n",
    "    for case, name in cases:\n",
    "        case_rows.append(case)\n",
    "        sing_rows.append(', '.join(synthesize(word, 'sg ' + case)))\n",
    "        plur_rows.append(', '.join(synthesize(word, 'pl ' + case)))\n",
    "    return pandas.DataFrame({'case': case_rows, 'singular': sing_rows, 'plural': plur_rows}, columns=['case', 'singular', 'plural'])"
   ]
  },
  {
   "cell_type": "code",
   "execution_count": 5,
   "metadata": {},
   "outputs": [],
   "source": [
    "# use the list of nouns to synthesize forms\n",
    "def synthesize_list(wordList):\n",
    "    all_forms = []\n",
    "    for w in wordList:\n",
    "        word_forms = synthesize_all(w)\n",
    "        all_forms.append(word_forms)\n",
    "    return pandas.concat(all_forms, axis=0)"
   ]
  },
  {
   "cell_type": "code",
   "execution_count": 16,
   "metadata": {},
   "outputs": [],
   "source": [
    "# use these verbs to synthesize forms\n",
    "verb_list = ['hakkama', 'minema', 'olema', 'pidama', 'saama', 'tegema', 'tulema', 'võima']"
   ]
  },
  {
   "cell_type": "code",
   "execution_count": 41,
   "metadata": {},
   "outputs": [],
   "source": [
    "# read in a list of nouns to be synthesized from the file\n",
    "substList = [line.strip() for line in open(\"to_be_inflected_subst.csv\", 'r')]"
   ]
  },
  {
   "cell_type": "code",
   "execution_count": 42,
   "metadata": {},
   "outputs": [],
   "source": [
    "# generate noun forms\n",
    "synthesized_substatnives = synthesize_list(substList)"
   ]
  },
  {
   "cell_type": "code",
   "execution_count": 43,
   "metadata": {
    "scrolled": true
   },
   "outputs": [
    {
     "data": {
      "text/html": [
       "<div>\n",
       "<style scoped>\n",
       "    .dataframe tbody tr th:only-of-type {\n",
       "        vertical-align: middle;\n",
       "    }\n",
       "\n",
       "    .dataframe tbody tr th {\n",
       "        vertical-align: top;\n",
       "    }\n",
       "\n",
       "    .dataframe thead th {\n",
       "        text-align: right;\n",
       "    }\n",
       "</style>\n",
       "<table border=\"1\" class=\"dataframe\">\n",
       "  <thead>\n",
       "    <tr style=\"text-align: right;\">\n",
       "      <th></th>\n",
       "      <th>case</th>\n",
       "      <th>singular</th>\n",
       "      <th>plural</th>\n",
       "    </tr>\n",
       "  </thead>\n",
       "  <tbody>\n",
       "    <tr>\n",
       "      <th>0</th>\n",
       "      <td>n</td>\n",
       "      <td>eelmine</td>\n",
       "      <td>eelmised</td>\n",
       "    </tr>\n",
       "    <tr>\n",
       "      <th>1</th>\n",
       "      <td>g</td>\n",
       "      <td>eelmise</td>\n",
       "      <td>eelmiste</td>\n",
       "    </tr>\n",
       "    <tr>\n",
       "      <th>2</th>\n",
       "      <td>p</td>\n",
       "      <td>eelmist</td>\n",
       "      <td>eelmisi, eelmiseid</td>\n",
       "    </tr>\n",
       "    <tr>\n",
       "      <th>3</th>\n",
       "      <td>ill</td>\n",
       "      <td>eelmisesse</td>\n",
       "      <td>eelmisisse, eelmistesse, eelmiseisse</td>\n",
       "    </tr>\n",
       "    <tr>\n",
       "      <th>4</th>\n",
       "      <td>in</td>\n",
       "      <td>eelmises</td>\n",
       "      <td>eelmisis, eelmistes, eelmiseis</td>\n",
       "    </tr>\n",
       "  </tbody>\n",
       "</table>\n",
       "</div>"
      ],
      "text/plain": [
       "  case    singular                                plural\n",
       "0    n     eelmine                              eelmised\n",
       "1    g     eelmise                              eelmiste\n",
       "2    p     eelmist                    eelmisi, eelmiseid\n",
       "3  ill  eelmisesse  eelmisisse, eelmistesse, eelmiseisse\n",
       "4   in    eelmises        eelmisis, eelmistes, eelmiseis"
      ]
     },
     "execution_count": 43,
     "metadata": {},
     "output_type": "execute_result"
    }
   ],
   "source": [
    "synthesized_substatnives.head()"
   ]
  },
  {
   "cell_type": "code",
   "execution_count": 44,
   "metadata": {},
   "outputs": [],
   "source": [
    "# generate verb forms\n",
    "stopverbs = []\n",
    "for vf in verb_forms:\n",
    "    for v in verb_list:\n",
    "        stopverbs.append(','.join(synthesize(v, vf)))"
   ]
  },
  {
   "cell_type": "code",
   "execution_count": 45,
   "metadata": {},
   "outputs": [],
   "source": [
    "# list of singular noun forms\n",
    "singulars = []\n",
    "for ind, row in synthesized_substatnives.iterrows():\n",
    "    singulars.append(row['singular'])"
   ]
  },
  {
   "cell_type": "code",
   "execution_count": 46,
   "metadata": {},
   "outputs": [],
   "source": [
    "# list of plural noun forms\n",
    "plurals = []\n",
    "for ind, row in synthesized_substatnives.iterrows():\n",
    "    singulars.append(row['plural'])"
   ]
  },
  {
   "cell_type": "code",
   "execution_count": 47,
   "metadata": {},
   "outputs": [],
   "source": [
    "stopwords = []\n",
    "for w in singulars:\n",
    "    if \",\" in w:\n",
    "        [stopwords.append(i.strip()) for i in w.split(',')]\n",
    "    else:\n",
    "        stopwords.append(w)"
   ]
  },
  {
   "cell_type": "code",
   "execution_count": 48,
   "metadata": {},
   "outputs": [],
   "source": [
    "for w in plurals:\n",
    "    if \",\" in w:\n",
    "        [stopwords.append(i.strip()) for i in w.split(',')]\n",
    "    else:\n",
    "        stopwords.append(w)"
   ]
  },
  {
   "cell_type": "code",
   "execution_count": 49,
   "metadata": {},
   "outputs": [],
   "source": [
    "verbs = []\n",
    "for v in stopverbs:\n",
    "    if \",\" in v:\n",
    "        [verbs.append(i.strip()) for i in v.split(',')]\n",
    "    else:\n",
    "        verbs.append(v)\n",
    "verbs = list(set(verbs))"
   ]
  },
  {
   "cell_type": "code",
   "execution_count": 50,
   "metadata": {},
   "outputs": [],
   "source": [
    "with open('generated_verb_forms.csv','w') as f:\n",
    "    f.write( '\\n'.join(verbs) )"
   ]
  },
  {
   "cell_type": "code",
   "execution_count": 51,
   "metadata": {},
   "outputs": [],
   "source": [
    "# noun forms to be removed as generated incorrectly\n",
    "to_be_removed = ['ea', 'ead', 'easse', 'eale', 'ealt', 'eaks', 'eani', 'eana', 'eata', 'eaga', 'igade', 'igasid',\n",
    "                 'igadesse', 'igades', 'igadest', 'igadele', 'igadel', 'igadelt', 'igadeks', 'igadeni', 'igadena',\n",
    "                 'igadeta', 'igadega', 'kee', 'kee', 'keesse', 'kees', 'keest', 'keele', 'keel', 'keelt', 'keeks',\n",
    "                 'keeni', 'keena', 'keeta', 'keega', 'keed', 'keede', 'keesid', 'keedesse', 'keedes', 'keedest',\n",
    "                 'keedele', 'keedel', 'keedelt', 'keedeks', 'keedeni', 'keedena', 'keedeta', 'keedega', 'kõigud',\n",
    "                 'kõigu', 'kõikude', 'kõiku', 'kõikisid', 'kõikusid', 'kõigusse', 'kõikudesse', 'kõigus', 'kõikudes',\n",
    "                 'kõigust', 'kõikudest', 'kõigule', 'kõikudele', 'kõigul', 'kõikudel', 'kõigult', 'kõikudelt', 'kõiguks',\n",
    "                 'kõikudeks', 'kõiguni', 'kõikudeni', 'kõiguna', 'kõikudena', 'kõiguta', 'kõikudeta', 'kõiguga', 'kõikudega',\n",
    "                 'mittekee', 'mittekeed', 'mittekee', 'mittekeede', 'mittekeed', 'mittekeesid', 'mittekeesse', 'mittekeedesse',\n",
    "                 'mittekees', 'mittekeedes', 'mittekeest', 'mittekeedest', 'mittekeele', 'mittekeedele', 'mittekeel',\n",
    "                 'mittekeedel', 'mittekeelt', 'mittekeedelt', 'mittekeeks', 'mittekeedeks', 'mittekeeni', 'mittekeedeni',\n",
    "                 'mittekeena', 'mittekeedena', 'mittekeeta', 'mittekeedeta', 'mittekeega', 'mittekeedega']"
   ]
  },
  {
   "cell_type": "code",
   "execution_count": 53,
   "metadata": {},
   "outputs": [],
   "source": [
    "# addtional forms to be added to stopwords as not generated\n",
    "additional = ['ärge', 'ärgem', 'ärgu', 'ärme', 'ära',\n",
    "              'mittekeegi', 'mittekellegi', 'mittekellessegi', 'mittekelleski',\n",
    "              'mittekellestki', 'mittekellelegi', 'mittekellelgi', 'mittekelleltki', 'mittekellekski', 'mittekellenigi',\n",
    "              'mittekellenagi', 'mittekelletagi', 'mittekellegagi']"
   ]
  },
  {
   "cell_type": "code",
   "execution_count": 54,
   "metadata": {},
   "outputs": [],
   "source": [
    "stopwords = [x for x in stopwords if x not in to_be_removed]"
   ]
  },
  {
   "cell_type": "code",
   "execution_count": 55,
   "metadata": {},
   "outputs": [],
   "source": [
    "for v in verbs:\n",
    "    if v not in stopwords:\n",
    "        stopwords.append(v)"
   ]
  },
  {
   "cell_type": "code",
   "execution_count": 56,
   "metadata": {},
   "outputs": [],
   "source": [
    "for a in additional:\n",
    "    if a not in stopwords:\n",
    "        stopwords.append(a)"
   ]
  },
  {
   "cell_type": "code",
   "execution_count": 57,
   "metadata": {},
   "outputs": [],
   "source": [
    "def file_to_list (file):\n",
    "    wordlist = [line.strip() for line in open(file, 'r')]\n",
    "    return wordlist\n",
    "        "
   ]
  },
  {
   "cell_type": "code",
   "execution_count": 58,
   "metadata": {},
   "outputs": [],
   "source": [
    "stopwords = file_to_list(\"adps.csv\") + file_to_list(\"advs-etc.csv\") + file_to_list(\"konj.csv\") + file_to_list(\"interj.csv\") + stopwords"
   ]
  },
  {
   "cell_type": "code",
   "execution_count": 59,
   "metadata": {},
   "outputs": [],
   "source": [
    "stopwords = list(set(stopwords))"
   ]
  },
  {
   "cell_type": "code",
   "execution_count": 60,
   "metadata": {},
   "outputs": [],
   "source": [
    "stopwords = [x for x in stopwords if x != '']"
   ]
  },
  {
   "cell_type": "code",
   "execution_count": 61,
   "metadata": {},
   "outputs": [],
   "source": [
    "lemma_stopwords = file_to_list(\"adps.csv\") + file_to_list(\"advs-etc.csv\") + file_to_list(\"konj.csv\") + file_to_list(\"interj.csv\") + file_to_list(\"to_be_inflected_subst.csv\") + file_to_list(\"to_be_inflected_verbs.csv\")"
   ]
  },
  {
   "cell_type": "code",
   "execution_count": 62,
   "metadata": {},
   "outputs": [
    {
     "data": {
      "text/plain": [
       "1605"
      ]
     },
     "execution_count": 62,
     "metadata": {},
     "output_type": "execute_result"
    }
   ],
   "source": [
    "len(lemma_stopwords)"
   ]
  },
  {
   "cell_type": "code",
   "execution_count": 63,
   "metadata": {},
   "outputs": [],
   "source": [
    "with open('estonian-stopwords.txt','w') as f:\n",
    "    f.write( '\\n'.join(stopwords) )"
   ]
  },
  {
   "cell_type": "code",
   "execution_count": 64,
   "metadata": {},
   "outputs": [],
   "source": [
    "with open('estonian-stopwords-lemmas.txt','w') as f:\n",
    "    f.write( '\\n'.join(lemma_stopwords) )"
   ]
  }
 ],
 "metadata": {
  "anaconda-cloud": {},
  "kernelspec": {
   "display_name": "Python 3",
   "language": "python",
   "name": "python3"
  },
  "language_info": {
   "codemirror_mode": {
    "name": "ipython",
    "version": 3
   },
   "file_extension": ".py",
   "mimetype": "text/x-python",
   "name": "python",
   "nbconvert_exporter": "python",
   "pygments_lexer": "ipython3",
   "version": "3.5.5"
  }
 },
 "nbformat": 4,
 "nbformat_minor": 2
}
